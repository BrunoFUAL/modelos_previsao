{
  "nbformat": 4,
  "nbformat_minor": 0,
  "metadata": {
    "colab": {
      "name": "LSTM.ipynb",
      "provenance": [],
      "collapsed_sections": [],
      "authorship_tag": "ABX9TyNv9u1ZKnYmRi/yFwwegT6X",
      "include_colab_link": true
    },
    "kernelspec": {
      "name": "python3",
      "display_name": "Python 3"
    },
    "language_info": {
      "name": "python"
    }
  },
  "cells": [
    {
      "cell_type": "markdown",
      "metadata": {
        "id": "view-in-github",
        "colab_type": "text"
      },
      "source": [
        "<a href=\"https://colab.research.google.com/github/BrunoFUAL/modelos_previsao/blob/main/LSTM.ipynb\" target=\"_parent\"><img src=\"https://colab.research.google.com/assets/colab-badge.svg\" alt=\"Open In Colab\"/></a>"
      ]
    },
    {
      "cell_type": "code",
      "execution_count": null,
      "metadata": {
        "id": "iRGNUGAzmlDZ"
      },
      "outputs": [],
      "source": [
        "#Descrição: Este programa utiliza inteligencia artificial através de redes neuronais \n",
        "#Long Short Term Memory (LSTM) para prever o preço de fecho de uma ação (neste caso a Apple), utilizando\n",
        "#os preços dos ultimos 60 dias\n",
        "\n",
        "#LSTM - rede neuronal utilizada no deep learning\n",
        "#LSTM é capaz de armazenar a informação importante e \"esquecer\" a que não é importante\n"
      ]
    },
    {
      "cell_type": "code",
      "source": [
        "#Importar as bibliotecas\n",
        "import math\n",
        "import pandas_datareader as web\n",
        "import numpy as np\n",
        "import pandas as pd\n",
        "from sklearn.preprocessing import MinMaxScaler\n",
        "from keras.models import Sequential\n",
        "from keras.layers import Dense, LSTM\n",
        "import matplotlib.pyplot as plt\n",
        "plt.style.use('fivethirtyeight')"
      ],
      "metadata": {
        "id": "o7NNs5j3nnVX"
      },
      "execution_count": 1,
      "outputs": []
    },
    {
      "cell_type": "code",
      "source": [
        "\n",
        "!pip install yfinance\n",
        "import yfinance as yf\n"
      ],
      "metadata": {
        "colab": {
          "base_uri": "https://localhost:8080/",
          "height": 679
        },
        "id": "38MfwoxDoBxP",
        "outputId": "8cf0e84a-7968-441f-94b4-e6e675c5a8ac"
      },
      "execution_count": 4,
      "outputs": [
        {
          "output_type": "stream",
          "name": "stdout",
          "text": [
            "Looking in indexes: https://pypi.org/simple, https://us-python.pkg.dev/colab-wheels/public/simple/\n",
            "Collecting yfinance\n",
            "  Downloading yfinance-0.1.70-py2.py3-none-any.whl (26 kB)\n",
            "Requirement already satisfied: multitasking>=0.0.7 in /usr/local/lib/python3.7/dist-packages (from yfinance) (0.0.10)\n",
            "Requirement already satisfied: numpy>=1.15 in /usr/local/lib/python3.7/dist-packages (from yfinance) (1.21.6)\n",
            "Requirement already satisfied: pandas>=0.24.0 in /usr/local/lib/python3.7/dist-packages (from yfinance) (1.3.5)\n",
            "Collecting requests>=2.26\n",
            "  Downloading requests-2.27.1-py2.py3-none-any.whl (63 kB)\n",
            "\u001b[K     |████████████████████████████████| 63 kB 2.3 MB/s \n",
            "\u001b[?25hCollecting lxml>=4.5.1\n",
            "  Downloading lxml-4.8.0-cp37-cp37m-manylinux_2_17_x86_64.manylinux2014_x86_64.manylinux_2_24_x86_64.whl (6.4 MB)\n",
            "\u001b[K     |████████████████████████████████| 6.4 MB 47.4 MB/s \n",
            "\u001b[?25hRequirement already satisfied: python-dateutil>=2.7.3 in /usr/local/lib/python3.7/dist-packages (from pandas>=0.24.0->yfinance) (2.8.2)\n",
            "Requirement already satisfied: pytz>=2017.3 in /usr/local/lib/python3.7/dist-packages (from pandas>=0.24.0->yfinance) (2022.1)\n",
            "Requirement already satisfied: six>=1.5 in /usr/local/lib/python3.7/dist-packages (from python-dateutil>=2.7.3->pandas>=0.24.0->yfinance) (1.15.0)\n",
            "Requirement already satisfied: idna<4,>=2.5 in /usr/local/lib/python3.7/dist-packages (from requests>=2.26->yfinance) (2.10)\n",
            "Requirement already satisfied: certifi>=2017.4.17 in /usr/local/lib/python3.7/dist-packages (from requests>=2.26->yfinance) (2022.5.18.1)\n",
            "Requirement already satisfied: charset-normalizer~=2.0.0 in /usr/local/lib/python3.7/dist-packages (from requests>=2.26->yfinance) (2.0.12)\n",
            "Requirement already satisfied: urllib3<1.27,>=1.21.1 in /usr/local/lib/python3.7/dist-packages (from requests>=2.26->yfinance) (1.24.3)\n",
            "Installing collected packages: requests, lxml, yfinance\n",
            "  Attempting uninstall: requests\n",
            "    Found existing installation: requests 2.23.0\n",
            "    Uninstalling requests-2.23.0:\n",
            "      Successfully uninstalled requests-2.23.0\n",
            "  Attempting uninstall: lxml\n",
            "    Found existing installation: lxml 4.2.6\n",
            "    Uninstalling lxml-4.2.6:\n",
            "      Successfully uninstalled lxml-4.2.6\n",
            "\u001b[31mERROR: pip's dependency resolver does not currently take into account all the packages that are installed. This behaviour is the source of the following dependency conflicts.\n",
            "google-colab 1.0.0 requires requests~=2.23.0, but you have requests 2.27.1 which is incompatible.\n",
            "datascience 0.10.6 requires folium==0.2.1, but you have folium 0.8.3 which is incompatible.\u001b[0m\n",
            "Successfully installed lxml-4.8.0 requests-2.27.1 yfinance-0.1.70\n"
          ]
        },
        {
          "output_type": "display_data",
          "data": {
            "application/vnd.colab-display-data+json": {
              "pip_warning": {
                "packages": [
                  "requests"
                ]
              }
            }
          },
          "metadata": {}
        }
      ]
    },
    {
      "cell_type": "code",
      "source": [
        "#Efetuar o download do dataset\n",
        "df = yf.download('AAPL', period='10y')\n",
        "\n",
        "#Mostrar o dataset\n",
        "\n",
        "df"
      ],
      "metadata": {
        "colab": {
          "base_uri": "https://localhost:8080/",
          "height": 472
        },
        "id": "M_ZFj68tpAWn",
        "outputId": "9fdc11e6-3d08-462c-c9b6-7531196ce000"
      },
      "execution_count": 5,
      "outputs": [
        {
          "output_type": "stream",
          "name": "stdout",
          "text": [
            "\r[*********************100%***********************]  1 of 1 completed\n"
          ]
        },
        {
          "output_type": "execute_result",
          "data": {
            "text/plain": [
              "                  Open        High         Low       Close   Adj Close  \\\n",
              "Date                                                                     \n",
              "2012-05-29   20.389286   20.500000   20.189644   20.438213   17.475040   \n",
              "2012-05-30   20.328571   20.713928   20.234285   20.684643   17.685740   \n",
              "2012-05-31   20.740713   20.767857   20.409286   20.633215   17.641773   \n",
              "2012-06-01   20.327143   20.451786   20.018572   20.035357   17.130594   \n",
              "2012-06-04   20.053572   20.267857   19.589287   20.153214   17.231361   \n",
              "...                ...         ...         ...         ...         ...   \n",
              "2022-05-23  137.789993  143.259995  137.649994  143.110001  143.110001   \n",
              "2022-05-24  140.809998  141.970001  137.330002  140.360001  140.360001   \n",
              "2022-05-25  138.429993  141.789993  138.339996  140.520004  140.520004   \n",
              "2022-05-26  137.389999  144.339996  137.139999  143.779999  143.779999   \n",
              "2022-05-27  145.389999  149.679993  145.259995  149.639999  149.639999   \n",
              "\n",
              "               Volume  \n",
              "Date                   \n",
              "2012-05-29  380508800  \n",
              "2012-05-30  529429600  \n",
              "2012-05-31  491674400  \n",
              "2012-06-01  520987600  \n",
              "2012-06-04  556995600  \n",
              "...               ...  \n",
              "2022-05-23  117726300  \n",
              "2022-05-24  104132700  \n",
              "2022-05-25   92482700  \n",
              "2022-05-26   90601500  \n",
              "2022-05-27   90796900  \n",
              "\n",
              "[2518 rows x 6 columns]"
            ],
            "text/html": [
              "\n",
              "  <div id=\"df-219c5d48-6392-47be-a1a6-ebffbbf2bb9e\">\n",
              "    <div class=\"colab-df-container\">\n",
              "      <div>\n",
              "<style scoped>\n",
              "    .dataframe tbody tr th:only-of-type {\n",
              "        vertical-align: middle;\n",
              "    }\n",
              "\n",
              "    .dataframe tbody tr th {\n",
              "        vertical-align: top;\n",
              "    }\n",
              "\n",
              "    .dataframe thead th {\n",
              "        text-align: right;\n",
              "    }\n",
              "</style>\n",
              "<table border=\"1\" class=\"dataframe\">\n",
              "  <thead>\n",
              "    <tr style=\"text-align: right;\">\n",
              "      <th></th>\n",
              "      <th>Open</th>\n",
              "      <th>High</th>\n",
              "      <th>Low</th>\n",
              "      <th>Close</th>\n",
              "      <th>Adj Close</th>\n",
              "      <th>Volume</th>\n",
              "    </tr>\n",
              "    <tr>\n",
              "      <th>Date</th>\n",
              "      <th></th>\n",
              "      <th></th>\n",
              "      <th></th>\n",
              "      <th></th>\n",
              "      <th></th>\n",
              "      <th></th>\n",
              "    </tr>\n",
              "  </thead>\n",
              "  <tbody>\n",
              "    <tr>\n",
              "      <th>2012-05-29</th>\n",
              "      <td>20.389286</td>\n",
              "      <td>20.500000</td>\n",
              "      <td>20.189644</td>\n",
              "      <td>20.438213</td>\n",
              "      <td>17.475040</td>\n",
              "      <td>380508800</td>\n",
              "    </tr>\n",
              "    <tr>\n",
              "      <th>2012-05-30</th>\n",
              "      <td>20.328571</td>\n",
              "      <td>20.713928</td>\n",
              "      <td>20.234285</td>\n",
              "      <td>20.684643</td>\n",
              "      <td>17.685740</td>\n",
              "      <td>529429600</td>\n",
              "    </tr>\n",
              "    <tr>\n",
              "      <th>2012-05-31</th>\n",
              "      <td>20.740713</td>\n",
              "      <td>20.767857</td>\n",
              "      <td>20.409286</td>\n",
              "      <td>20.633215</td>\n",
              "      <td>17.641773</td>\n",
              "      <td>491674400</td>\n",
              "    </tr>\n",
              "    <tr>\n",
              "      <th>2012-06-01</th>\n",
              "      <td>20.327143</td>\n",
              "      <td>20.451786</td>\n",
              "      <td>20.018572</td>\n",
              "      <td>20.035357</td>\n",
              "      <td>17.130594</td>\n",
              "      <td>520987600</td>\n",
              "    </tr>\n",
              "    <tr>\n",
              "      <th>2012-06-04</th>\n",
              "      <td>20.053572</td>\n",
              "      <td>20.267857</td>\n",
              "      <td>19.589287</td>\n",
              "      <td>20.153214</td>\n",
              "      <td>17.231361</td>\n",
              "      <td>556995600</td>\n",
              "    </tr>\n",
              "    <tr>\n",
              "      <th>...</th>\n",
              "      <td>...</td>\n",
              "      <td>...</td>\n",
              "      <td>...</td>\n",
              "      <td>...</td>\n",
              "      <td>...</td>\n",
              "      <td>...</td>\n",
              "    </tr>\n",
              "    <tr>\n",
              "      <th>2022-05-23</th>\n",
              "      <td>137.789993</td>\n",
              "      <td>143.259995</td>\n",
              "      <td>137.649994</td>\n",
              "      <td>143.110001</td>\n",
              "      <td>143.110001</td>\n",
              "      <td>117726300</td>\n",
              "    </tr>\n",
              "    <tr>\n",
              "      <th>2022-05-24</th>\n",
              "      <td>140.809998</td>\n",
              "      <td>141.970001</td>\n",
              "      <td>137.330002</td>\n",
              "      <td>140.360001</td>\n",
              "      <td>140.360001</td>\n",
              "      <td>104132700</td>\n",
              "    </tr>\n",
              "    <tr>\n",
              "      <th>2022-05-25</th>\n",
              "      <td>138.429993</td>\n",
              "      <td>141.789993</td>\n",
              "      <td>138.339996</td>\n",
              "      <td>140.520004</td>\n",
              "      <td>140.520004</td>\n",
              "      <td>92482700</td>\n",
              "    </tr>\n",
              "    <tr>\n",
              "      <th>2022-05-26</th>\n",
              "      <td>137.389999</td>\n",
              "      <td>144.339996</td>\n",
              "      <td>137.139999</td>\n",
              "      <td>143.779999</td>\n",
              "      <td>143.779999</td>\n",
              "      <td>90601500</td>\n",
              "    </tr>\n",
              "    <tr>\n",
              "      <th>2022-05-27</th>\n",
              "      <td>145.389999</td>\n",
              "      <td>149.679993</td>\n",
              "      <td>145.259995</td>\n",
              "      <td>149.639999</td>\n",
              "      <td>149.639999</td>\n",
              "      <td>90796900</td>\n",
              "    </tr>\n",
              "  </tbody>\n",
              "</table>\n",
              "<p>2518 rows × 6 columns</p>\n",
              "</div>\n",
              "      <button class=\"colab-df-convert\" onclick=\"convertToInteractive('df-219c5d48-6392-47be-a1a6-ebffbbf2bb9e')\"\n",
              "              title=\"Convert this dataframe to an interactive table.\"\n",
              "              style=\"display:none;\">\n",
              "        \n",
              "  <svg xmlns=\"http://www.w3.org/2000/svg\" height=\"24px\"viewBox=\"0 0 24 24\"\n",
              "       width=\"24px\">\n",
              "    <path d=\"M0 0h24v24H0V0z\" fill=\"none\"/>\n",
              "    <path d=\"M18.56 5.44l.94 2.06.94-2.06 2.06-.94-2.06-.94-.94-2.06-.94 2.06-2.06.94zm-11 1L8.5 8.5l.94-2.06 2.06-.94-2.06-.94L8.5 2.5l-.94 2.06-2.06.94zm10 10l.94 2.06.94-2.06 2.06-.94-2.06-.94-.94-2.06-.94 2.06-2.06.94z\"/><path d=\"M17.41 7.96l-1.37-1.37c-.4-.4-.92-.59-1.43-.59-.52 0-1.04.2-1.43.59L10.3 9.45l-7.72 7.72c-.78.78-.78 2.05 0 2.83L4 21.41c.39.39.9.59 1.41.59.51 0 1.02-.2 1.41-.59l7.78-7.78 2.81-2.81c.8-.78.8-2.07 0-2.86zM5.41 20L4 18.59l7.72-7.72 1.47 1.35L5.41 20z\"/>\n",
              "  </svg>\n",
              "      </button>\n",
              "      \n",
              "  <style>\n",
              "    .colab-df-container {\n",
              "      display:flex;\n",
              "      flex-wrap:wrap;\n",
              "      gap: 12px;\n",
              "    }\n",
              "\n",
              "    .colab-df-convert {\n",
              "      background-color: #E8F0FE;\n",
              "      border: none;\n",
              "      border-radius: 50%;\n",
              "      cursor: pointer;\n",
              "      display: none;\n",
              "      fill: #1967D2;\n",
              "      height: 32px;\n",
              "      padding: 0 0 0 0;\n",
              "      width: 32px;\n",
              "    }\n",
              "\n",
              "    .colab-df-convert:hover {\n",
              "      background-color: #E2EBFA;\n",
              "      box-shadow: 0px 1px 2px rgba(60, 64, 67, 0.3), 0px 1px 3px 1px rgba(60, 64, 67, 0.15);\n",
              "      fill: #174EA6;\n",
              "    }\n",
              "\n",
              "    [theme=dark] .colab-df-convert {\n",
              "      background-color: #3B4455;\n",
              "      fill: #D2E3FC;\n",
              "    }\n",
              "\n",
              "    [theme=dark] .colab-df-convert:hover {\n",
              "      background-color: #434B5C;\n",
              "      box-shadow: 0px 1px 3px 1px rgba(0, 0, 0, 0.15);\n",
              "      filter: drop-shadow(0px 1px 2px rgba(0, 0, 0, 0.3));\n",
              "      fill: #FFFFFF;\n",
              "    }\n",
              "  </style>\n",
              "\n",
              "      <script>\n",
              "        const buttonEl =\n",
              "          document.querySelector('#df-219c5d48-6392-47be-a1a6-ebffbbf2bb9e button.colab-df-convert');\n",
              "        buttonEl.style.display =\n",
              "          google.colab.kernel.accessAllowed ? 'block' : 'none';\n",
              "\n",
              "        async function convertToInteractive(key) {\n",
              "          const element = document.querySelector('#df-219c5d48-6392-47be-a1a6-ebffbbf2bb9e');\n",
              "          const dataTable =\n",
              "            await google.colab.kernel.invokeFunction('convertToInteractive',\n",
              "                                                     [key], {});\n",
              "          if (!dataTable) return;\n",
              "\n",
              "          const docLinkHtml = 'Like what you see? Visit the ' +\n",
              "            '<a target=\"_blank\" href=https://colab.research.google.com/notebooks/data_table.ipynb>data table notebook</a>'\n",
              "            + ' to learn more about interactive tables.';\n",
              "          element.innerHTML = '';\n",
              "          dataTable['output_type'] = 'display_data';\n",
              "          await google.colab.output.renderOutput(dataTable, element);\n",
              "          const docLink = document.createElement('div');\n",
              "          docLink.innerHTML = docLinkHtml;\n",
              "          element.appendChild(docLink);\n",
              "        }\n",
              "      </script>\n",
              "    </div>\n",
              "  </div>\n",
              "  "
            ]
          },
          "metadata": {},
          "execution_count": 5
        }
      ]
    },
    {
      "cell_type": "code",
      "source": [
        "#Contabilizar o numero de volunas e linhas no dataset\n",
        "df.shape"
      ],
      "metadata": {
        "colab": {
          "base_uri": "https://localhost:8080/"
        },
        "id": "YR1TScbxpPAd",
        "outputId": "a17756e7-499e-4baf-ec5c-212a3028d7b8"
      },
      "execution_count": 6,
      "outputs": [
        {
          "output_type": "execute_result",
          "data": {
            "text/plain": [
              "(2518, 6)"
            ]
          },
          "metadata": {},
          "execution_count": 6
        }
      ]
    },
    {
      "cell_type": "code",
      "source": [
        "#Visualizar o preço de fecho de sessão\n",
        "plt.figure(figsize=(16,8))\n",
        "plt.title('Evolução dos Preços')\n",
        "plt.plot(df['Close'])\n",
        "plt.xlabel('Data', fontsize = 18)\n",
        "plt.ylabel('Preço de Fecho em USD($)', fontsize=18 )\n",
        "plt.show()"
      ],
      "metadata": {
        "colab": {
          "base_uri": "https://localhost:8080/",
          "height": 538
        },
        "id": "AwG7kvljpZiP",
        "outputId": "8226264a-4ec1-4aee-b516-82c8d5cd13a2"
      },
      "execution_count": 8,
      "outputs": [
        {
          "output_type": "display_data",
          "data": {
            "text/plain": [
              "<Figure size 1152x576 with 1 Axes>"
            ],
            "image/png": "[encoded data removed]"
          },
          "metadata": {
            "needs_background": "light"
          }
        }
      ]
    },
    {
      "cell_type": "code",
      "source": [
        "#Criar um novo dataset com apenas a coluna de Preço de Fecho\n",
        "\n",
        "data = df.filter(['Close'])\n",
        "\n",
        "#Converter o dataset num array em numpy\n",
        "\n",
        "dataset = data.values\n",
        "\n",
        "#Obter o numero de linhas para treinar o modelo\n",
        "\n",
        "training_data_len = math.ceil(len(dataset) *.8)\n",
        "training_data_len"
      ],
      "metadata": {
        "colab": {
          "base_uri": "https://localhost:8080/"
        },
        "id": "5VnIymUFqWOI",
        "outputId": "2addba12-9f78-47ba-a31b-2d3a7cccb993"
      },
      "execution_count": 9,
      "outputs": [
        {
          "output_type": "execute_result",
          "data": {
            "text/plain": [
              "2015"
            ]
          },
          "metadata": {},
          "execution_count": 9
        }
      ]
    },
    {
      "cell_type": "code",
      "source": [
        "#Atribuir a escala aos dados, de forma a normalizar a informação\n",
        "\n",
        "scaler = MinMaxScaler(feature_range=(0,1))\n",
        "scaled_data = scaler.fit_transform(dataset)\n",
        "\n",
        "scaled_data"
      ],
      "metadata": {
        "colab": {
          "base_uri": "https://localhost:8080/"
        },
        "id": "hC-kfxocpIMG",
        "outputId": "4e52f2f0-6cc0-4ab8-b7c6-a0f3ed9d87f2"
      },
      "execution_count": 10,
      "outputs": [
        {
          "output_type": "execute_result",
          "data": {
            "text/plain": [
              "array([[0.03862083],\n",
              "       [0.04008713],\n",
              "       [0.03978112],\n",
              "       ...,\n",
              "       [0.75312761],\n",
              "       [0.77252512],\n",
              "       [0.80739311]])"
            ]
          },
          "metadata": {},
          "execution_count": 10
        }
      ]
    },
    {
      "cell_type": "code",
      "source": [
        "#Criar o dataset de treino\n",
        "#Criar o dataset de traino com a escala correta\n",
        "\n",
        "train_data = scaled_data[0:training_data_len, :]\n",
        "\n",
        "#Dividir os dados entre x_train (variaveis independentes) e y_train (variavel dependente)\n",
        "\n",
        "x_train = []\n",
        "y_train = []\n",
        "\n",
        "for i in range(60, len(train_data)):\n",
        "  x_train.append(train_data[i-60:i, 0])\n",
        "  y_train.append(train_data[i, 0])\n",
        "  if i<=61:\n",
        "    print(x_train)\n",
        "    print(y_train)\n",
        "    print()\n",
        "\n"
      ],
      "metadata": {
        "colab": {
          "base_uri": "https://localhost:8080/"
        },
        "id": "Nm6sFKWAruqX",
        "outputId": "0665f1c0-06e1-4aa6-ad3a-c3d20bcb3eea"
      },
      "execution_count": 12,
      "outputs": [
        {
          "output_type": "stream",
          "name": "stdout",
          "text": [
            "[array([0.03862083, 0.04008713, 0.03978112, 0.03622376, 0.03692503,\n",
            "       0.03661477, 0.03844871, 0.03850396, 0.04033151, 0.03838709,\n",
            "       0.03944748, 0.03859746, 0.03846358, 0.0390161 , 0.04149179,\n",
            "       0.04183818, 0.0414833 , 0.03976837, 0.04070977, 0.03830208,\n",
            "       0.03856984, 0.03909472, 0.03793656, 0.04111353, 0.04292408,\n",
            "       0.04438824, 0.04662594, 0.04576316, 0.04746533, 0.04625831,\n",
            "       0.04545503, 0.04427987, 0.04556978, 0.04598205, 0.04598843,\n",
            "       0.04584392, 0.04755672, 0.04542741, 0.04532753, 0.04470914,\n",
            "       0.0391946 , 0.03917548, 0.04136004, 0.04345748, 0.04680019,\n",
            "       0.04596079, 0.04616905, 0.04784998, 0.04930564, 0.04895713,\n",
            "       0.048734  , 0.04891887, 0.04912501, 0.05088881, 0.05124794,\n",
            "       0.05106518, 0.0522361 , 0.05473729, 0.0583584 , 0.05642671])]\n",
            "[0.05914891317753268]\n",
            "\n",
            "[array([0.03862083, 0.04008713, 0.03978112, 0.03622376, 0.03692503,\n",
            "       0.03661477, 0.03844871, 0.03850396, 0.04033151, 0.03838709,\n",
            "       0.03944748, 0.03859746, 0.03846358, 0.0390161 , 0.04149179,\n",
            "       0.04183818, 0.0414833 , 0.03976837, 0.04070977, 0.03830208,\n",
            "       0.03856984, 0.03909472, 0.03793656, 0.04111353, 0.04292408,\n",
            "       0.04438824, 0.04662594, 0.04576316, 0.04746533, 0.04625831,\n",
            "       0.04545503, 0.04427987, 0.04556978, 0.04598205, 0.04598843,\n",
            "       0.04584392, 0.04755672, 0.04542741, 0.04532753, 0.04470914,\n",
            "       0.0391946 , 0.03917548, 0.04136004, 0.04345748, 0.04680019,\n",
            "       0.04596079, 0.04616905, 0.04784998, 0.04930564, 0.04895713,\n",
            "       0.048734  , 0.04891887, 0.04912501, 0.05088881, 0.05124794,\n",
            "       0.05106518, 0.0522361 , 0.05473729, 0.0583584 , 0.05642671]), array([0.04008713, 0.03978112, 0.03622376, 0.03692503, 0.03661477,\n",
            "       0.03844871, 0.03850396, 0.04033151, 0.03838709, 0.03944748,\n",
            "       0.03859746, 0.03846358, 0.0390161 , 0.04149179, 0.04183818,\n",
            "       0.0414833 , 0.03976837, 0.04070977, 0.03830208, 0.03856984,\n",
            "       0.03909472, 0.03793656, 0.04111353, 0.04292408, 0.04438824,\n",
            "       0.04662594, 0.04576316, 0.04746533, 0.04625831, 0.04545503,\n",
            "       0.04427987, 0.04556978, 0.04598205, 0.04598843, 0.04584392,\n",
            "       0.04755672, 0.04542741, 0.04532753, 0.04470914, 0.0391946 ,\n",
            "       0.03917548, 0.04136004, 0.04345748, 0.04680019, 0.04596079,\n",
            "       0.04616905, 0.04784998, 0.04930564, 0.04895713, 0.048734  ,\n",
            "       0.04891887, 0.04912501, 0.05088881, 0.05124794, 0.05106518,\n",
            "       0.0522361 , 0.05473729, 0.0583584 , 0.05642671, 0.05914891])]\n",
            "[0.05914891317753268, 0.05782287953413173]\n",
            "\n"
          ]
        }
      ]
    },
    {
      "cell_type": "code",
      "source": [
        "#Converter o x_train e y_train para arrays numpy\n",
        "\n",
        "x_train, y_train = np.array(x_train), np.array(y_train)"
      ],
      "metadata": {
        "id": "HKg5JdDZtQZI"
      },
      "execution_count": 13,
      "outputs": []
    },
    {
      "cell_type": "code",
      "source": [
        "#Reformular os dados\n",
        "#O LSTM espera um dataset tridimensional pelo que teremos de o alterar pois atualmente é apenas bidimensional\n",
        "#a terceira dimensão = 1 (Closing Price)\n",
        "\n",
        "x_train = np.reshape(x_train, (x_train.shape[0], x_train.shape[1], 1 ))\n",
        "x_train.shape\n"
      ],
      "metadata": {
        "colab": {
          "base_uri": "https://localhost:8080/"
        },
        "id": "_pM9qoJBtjfP",
        "outputId": "c5538a1f-1edd-42f4-e9f7-ffb3c2c996d4"
      },
      "execution_count": 16,
      "outputs": [
        {
          "output_type": "execute_result",
          "data": {
            "text/plain": [
              "(1955, 60, 1)"
            ]
          },
          "metadata": {},
          "execution_count": 16
        }
      ]
    },
    {
      "cell_type": "code",
      "source": [
        "#Construir o modelo LSTM\n",
        "\n",
        "model = Sequential()\n",
        "model.add(LSTM(50, return_sequences=True, input_shape =(x_train.shape[1], 1)))\n",
        "model.add(LSTM(50, return_sequences=False))\n",
        "model.add(Dense(25))\n",
        "model.add(Dense(1))\n"
      ],
      "metadata": {
        "id": "wEZoxLNAuTVn"
      },
      "execution_count": 17,
      "outputs": []
    },
    {
      "cell_type": "code",
      "source": [
        "#Compilar o modelo\n",
        "\n",
        "model.compile(optimizer='adam', loss='mean_squared_error')"
      ],
      "metadata": {
        "id": "9knYY6Pgu24g"
      },
      "execution_count": 18,
      "outputs": []
    },
    {
      "cell_type": "code",
      "source": [
        "#Treinar o modelo\n",
        "\n",
        "model.fit(x_train, y_train, batch_size=1, epochs=1)"
      ],
      "metadata": {
        "colab": {
          "base_uri": "https://localhost:8080/"
        },
        "id": "Bki0lA_1vApI",
        "outputId": "91bda312-9a23-4470-937d-7fc26b29b74f"
      },
      "execution_count": 19,
      "outputs": [
        {
          "output_type": "stream",
          "name": "stdout",
          "text": [
            "1955/1955 [==============================] - 47s 22ms/step - loss: 2.5979e-04\n"
          ]
        },
        {
          "output_type": "execute_result",
          "data": {
            "text/plain": [
              "<keras.callbacks.History at 0x7f4bc02f8210>"
            ]
          },
          "metadata": {},
          "execution_count": 19
        }
      ]
    },
    {
      "cell_type": "code",
      "source": [
        "#Criar o dataset de teste\n",
        "#Criar um novo array que contém os valores desde o 1955 ate 2518\n",
        "\n",
        "test_data = scaled_data[training_data_len-60: , :]\n",
        "\n",
        "#Criar os dataset x_test e y_test\n",
        "\n",
        "x_test = []\n",
        "y_test = dataset[training_data_len:, :]\n",
        "for i in range(60, len(test_data)):\n",
        "  x_test.append(test_data[i-60:i, 0])"
      ],
      "metadata": {
        "id": "h0St4RWBx7Ro"
      },
      "execution_count": 20,
      "outputs": []
    },
    {
      "cell_type": "code",
      "source": [
        "\n",
        "#Converter os dados num array numpy\n",
        "\n",
        "x_test = np.array(x_test)"
      ],
      "metadata": {
        "id": "wv6NP8Gjy_Xg"
      },
      "execution_count": 21,
      "outputs": []
    },
    {
      "cell_type": "code",
      "source": [
        "#Reformular os dados\n",
        "\n",
        "x_test = np.reshape(x_test, (x_test.shape[0], x_test.shape[1], 1))"
      ],
      "metadata": {
        "id": "Gz5LbAjc0noI"
      },
      "execution_count": 22,
      "outputs": []
    },
    {
      "cell_type": "code",
      "source": [
        "#Obter os valores previstos pelo modelo\n",
        "predictions = model.predict(x_test)\n",
        "predictions = scaler.inverse_transform(predictions)"
      ],
      "metadata": {
        "id": "O-OgofJD0915"
      },
      "execution_count": 23,
      "outputs": []
    },
    {
      "cell_type": "code",
      "source": [
        "#Obter o Root Mean Squared Error (RMSE) => standard desviations from the residuals, quanto menor melhor\n",
        "\n",
        "rmse=np.sqrt(np.mean(((predictions- y_test)**2)))\n",
        "rmse"
      ],
      "metadata": {
        "colab": {
          "base_uri": "https://localhost:8080/"
        },
        "id": "9MxJUosq1bNo",
        "outputId": "3dda1451-fb80-4548-83be-7d4ced6bfca0"
      },
      "execution_count": 24,
      "outputs": [
        {
          "output_type": "execute_result",
          "data": {
            "text/plain": [
              "5.485893971123378"
            ]
          },
          "metadata": {},
          "execution_count": 24
        }
      ]
    },
    {
      "cell_type": "code",
      "source": [
        "#Mostrar o gráfico com os dados\n",
        "\n",
        "train = data[:training_data_len]\n",
        "valid = data[training_data_len:]\n",
        "valid['Previsões'] = predictions\n",
        "\n",
        "#Visualiar\n",
        "plt.figure(figsize=(16,8))\n",
        "plt.title('Modelo')\n",
        "plt.xlabel('Data', fontsize = 18)\n",
        "plt.ylabel('Preço de Fecho em USD($)', fontsize=18)\n",
        "plt.plot(train['Close'])\n",
        "plt.plot(valid[['Close', 'Previsões']])\n",
        "plt.legend(['Treino', 'Validação', 'Previsões'], loc='lower right')\n",
        "plt.show()\n",
        "\n"
      ],
      "metadata": {
        "colab": {
          "base_uri": "https://localhost:8080/",
          "height": 642
        },
        "id": "KDdNqIsN2HOR",
        "outputId": "f71bb7ca-b3e1-4fe1-c066-4f3d4305c5b3"
      },
      "execution_count": 26,
      "outputs": [
        {
          "output_type": "stream",
          "name": "stderr",
          "text": [
            "/usr/local/lib/python3.7/dist-packages/ipykernel_launcher.py:5: SettingWithCopyWarning: \n",
            "A value is trying to be set on a copy of a slice from a DataFrame.\n",
            "Try using .loc[row_indexer,col_indexer] = value instead\n",
            "\n",
            "See the caveats in the documentation: https://pandas.pydata.org/pandas-docs/stable/user_guide/indexing.html#returning-a-view-versus-a-copy\n",
            "  \"\"\"\n"
          ]
        },
        {
          "output_type": "display_data",
          "data": {
            "text/plain": [
              "<Figure size 1152x576 with 1 Axes>"
            ],
            "image/png": "[encoded data removed]"
          },
          "metadata": {
            "needs_background": "light"
          }
        }
      ]
    },
    {
      "cell_type": "code",
      "source": [
        "#Mostrar o preço previsto vs preço real\n",
        "\n",
        "valid"
      ],
      "metadata": {
        "colab": {
          "base_uri": "https://localhost:8080/",
          "height": 455
        },
        "id": "qgUQkS3T379J",
        "outputId": "3417f0f4-eb91-4b2b-ceda-0f9cb0a06d1a"
      },
      "execution_count": 27,
      "outputs": [
        {
          "output_type": "execute_result",
          "data": {
            "text/plain": [
              "                 Close   Previsões\n",
              "Date                              \n",
              "2020-06-02   80.834999   79.736252\n",
              "2020-06-03   81.279999   79.998787\n",
              "2020-06-04   80.580002   80.322006\n",
              "2020-06-05   82.875000   80.544868\n",
              "2020-06-08   83.364998   80.988113\n",
              "...                ...         ...\n",
              "2022-05-23  143.110001  139.566132\n",
              "2022-05-24  140.360001  138.880005\n",
              "2022-05-25  140.520004  138.378326\n",
              "2022-05-26  143.779999  138.094070\n",
              "2022-05-27  149.639999  138.396530\n",
              "\n",
              "[503 rows x 2 columns]"
            ],
            "text/html": [
              "\n",
              "  <div id=\"df-de4b9f12-fc28-4495-8f73-2470f24ed82f\">\n",
              "    <div class=\"colab-df-container\">\n",
              "      <div>\n",
              "<style scoped>\n",
              "    .dataframe tbody tr th:only-of-type {\n",
              "        vertical-align: middle;\n",
              "    }\n",
              "\n",
              "    .dataframe tbody tr th {\n",
              "        vertical-align: top;\n",
              "    }\n",
              "\n",
              "    .dataframe thead th {\n",
              "        text-align: right;\n",
              "    }\n",
              "</style>\n",
              "<table border=\"1\" class=\"dataframe\">\n",
              "  <thead>\n",
              "    <tr style=\"text-align: right;\">\n",
              "      <th></th>\n",
              "      <th>Close</th>\n",
              "      <th>Previsões</th>\n",
              "    </tr>\n",
              "    <tr>\n",
              "      <th>Date</th>\n",
              "      <th></th>\n",
              "      <th></th>\n",
              "    </tr>\n",
              "  </thead>\n",
              "  <tbody>\n",
              "    <tr>\n",
              "      <th>2020-06-02</th>\n",
              "      <td>80.834999</td>\n",
              "      <td>79.736252</td>\n",
              "    </tr>\n",
              "    <tr>\n",
              "      <th>2020-06-03</th>\n",
              "      <td>81.279999</td>\n",
              "      <td>79.998787</td>\n",
              "    </tr>\n",
              "    <tr>\n",
              "      <th>2020-06-04</th>\n",
              "      <td>80.580002</td>\n",
              "      <td>80.322006</td>\n",
              "    </tr>\n",
              "    <tr>\n",
              "      <th>2020-06-05</th>\n",
              "      <td>82.875000</td>\n",
              "      <td>80.544868</td>\n",
              "    </tr>\n",
              "    <tr>\n",
              "      <th>2020-06-08</th>\n",
              "      <td>83.364998</td>\n",
              "      <td>80.988113</td>\n",
              "    </tr>\n",
              "    <tr>\n",
              "      <th>...</th>\n",
              "      <td>...</td>\n",
              "      <td>...</td>\n",
              "    </tr>\n",
              "    <tr>\n",
              "      <th>2022-05-23</th>\n",
              "      <td>143.110001</td>\n",
              "      <td>139.566132</td>\n",
              "    </tr>\n",
              "    <tr>\n",
              "      <th>2022-05-24</th>\n",
              "      <td>140.360001</td>\n",
              "      <td>138.880005</td>\n",
              "    </tr>\n",
              "    <tr>\n",
              "      <th>2022-05-25</th>\n",
              "      <td>140.520004</td>\n",
              "      <td>138.378326</td>\n",
              "    </tr>\n",
              "    <tr>\n",
              "      <th>2022-05-26</th>\n",
              "      <td>143.779999</td>\n",
              "      <td>138.094070</td>\n",
              "    </tr>\n",
              "    <tr>\n",
              "      <th>2022-05-27</th>\n",
              "      <td>149.639999</td>\n",
              "      <td>138.396530</td>\n",
              "    </tr>\n",
              "  </tbody>\n",
              "</table>\n",
              "<p>503 rows × 2 columns</p>\n",
              "</div>\n",
              "      <button class=\"colab-df-convert\" onclick=\"convertToInteractive('df-de4b9f12-fc28-4495-8f73-2470f24ed82f')\"\n",
              "              title=\"Convert this dataframe to an interactive table.\"\n",
              "              style=\"display:none;\">\n",
              "        \n",
              "  <svg xmlns=\"http://www.w3.org/2000/svg\" height=\"24px\"viewBox=\"0 0 24 24\"\n",
              "       width=\"24px\">\n",
              "    <path d=\"M0 0h24v24H0V0z\" fill=\"none\"/>\n",
              "    <path d=\"M18.56 5.44l.94 2.06.94-2.06 2.06-.94-2.06-.94-.94-2.06-.94 2.06-2.06.94zm-11 1L8.5 8.5l.94-2.06 2.06-.94-2.06-.94L8.5 2.5l-.94 2.06-2.06.94zm10 10l.94 2.06.94-2.06 2.06-.94-2.06-.94-.94-2.06-.94 2.06-2.06.94z\"/><path d=\"M17.41 7.96l-1.37-1.37c-.4-.4-.92-.59-1.43-.59-.52 0-1.04.2-1.43.59L10.3 9.45l-7.72 7.72c-.78.78-.78 2.05 0 2.83L4 21.41c.39.39.9.59 1.41.59.51 0 1.02-.2 1.41-.59l7.78-7.78 2.81-2.81c.8-.78.8-2.07 0-2.86zM5.41 20L4 18.59l7.72-7.72 1.47 1.35L5.41 20z\"/>\n",
              "  </svg>\n",
              "      </button>\n",
              "      \n",
              "  <style>\n",
              "    .colab-df-container {\n",
              "      display:flex;\n",
              "      flex-wrap:wrap;\n",
              "      gap: 12px;\n",
              "    }\n",
              "\n",
              "    .colab-df-convert {\n",
              "      background-color: #E8F0FE;\n",
              "      border: none;\n",
              "      border-radius: 50%;\n",
              "      cursor: pointer;\n",
              "      display: none;\n",
              "      fill: #1967D2;\n",
              "      height: 32px;\n",
              "      padding: 0 0 0 0;\n",
              "      width: 32px;\n",
              "    }\n",
              "\n",
              "    .colab-df-convert:hover {\n",
              "      background-color: #E2EBFA;\n",
              "      box-shadow: 0px 1px 2px rgba(60, 64, 67, 0.3), 0px 1px 3px 1px rgba(60, 64, 67, 0.15);\n",
              "      fill: #174EA6;\n",
              "    }\n",
              "\n",
              "    [theme=dark] .colab-df-convert {\n",
              "      background-color: #3B4455;\n",
              "      fill: #D2E3FC;\n",
              "    }\n",
              "\n",
              "    [theme=dark] .colab-df-convert:hover {\n",
              "      background-color: #434B5C;\n",
              "      box-shadow: 0px 1px 3px 1px rgba(0, 0, 0, 0.15);\n",
              "      filter: drop-shadow(0px 1px 2px rgba(0, 0, 0, 0.3));\n",
              "      fill: #FFFFFF;\n",
              "    }\n",
              "  </style>\n",
              "\n",
              "      <script>\n",
              "        const buttonEl =\n",
              "          document.querySelector('#df-de4b9f12-fc28-4495-8f73-2470f24ed82f button.colab-df-convert');\n",
              "        buttonEl.style.display =\n",
              "          google.colab.kernel.accessAllowed ? 'block' : 'none';\n",
              "\n",
              "        async function convertToInteractive(key) {\n",
              "          const element = document.querySelector('#df-de4b9f12-fc28-4495-8f73-2470f24ed82f');\n",
              "          const dataTable =\n",
              "            await google.colab.kernel.invokeFunction('convertToInteractive',\n",
              "                                                     [key], {});\n",
              "          if (!dataTable) return;\n",
              "\n",
              "          const docLinkHtml = 'Like what you see? Visit the ' +\n",
              "            '<a target=\"_blank\" href=https://colab.research.google.com/notebooks/data_table.ipynb>data table notebook</a>'\n",
              "            + ' to learn more about interactive tables.';\n",
              "          element.innerHTML = '';\n",
              "          dataTable['output_type'] = 'display_data';\n",
              "          await google.colab.output.renderOutput(dataTable, element);\n",
              "          const docLink = document.createElement('div');\n",
              "          docLink.innerHTML = docLinkHtml;\n",
              "          element.appendChild(docLink);\n",
              "        }\n",
              "      </script>\n",
              "    </div>\n",
              "  </div>\n",
              "  "
            ]
          },
          "metadata": {},
          "execution_count": 27
        }
      ]
    },
    {
      "cell_type": "code",
      "source": [
        "#Para prever o valor do dia seguinte ao dataset\n",
        "\n",
        "apple_quote = yf.download('AAPL', period='10y')\n",
        "\n",
        "#Criar um novo dataset\n",
        "\n",
        "new_df = apple_quote.filter(['Close'])\n",
        "\n",
        "#Obter os ultimos 60 dias e converter num array\n",
        "\n",
        "last_60_days = new_df[-60:].values\n",
        "\n",
        "#Atribuir escala aos dados entre 0 e 1\n",
        "\n",
        "last_60_days_scaled = scaler.transform(last_60_days)\n",
        "\n",
        "#Criar uma lista vazia\n",
        "\n",
        "X_test = []\n",
        "\n",
        "#Adicionar os valores dos ultimos 60 dias\n",
        "\n",
        "X_test.append(last_60_days_scaled)\n",
        "\n",
        "#Converter X_test para um array numpy\n",
        "\n",
        "X_test = np.array(X_test)\n",
        "\n",
        "#Reformular os dados \n",
        "\n",
        "X_test = np.reshape(X_test, (X_test.shape[0], X_test.shape[1],1))\n",
        "\n",
        "#Obter o valor previsto\n",
        "\n",
        "pred_price = model.predict(X_test)\n",
        "\n",
        "#Inverter a escala\n",
        "\n",
        "pred_price = scaler.inverse_transform(pred_price)\n",
        "\n",
        "#Mostrar o preço previsto\n",
        "\n",
        "print(pred_price)"
      ],
      "metadata": {
        "colab": {
          "base_uri": "https://localhost:8080/"
        },
        "id": "ukmPXDfn4KVJ",
        "outputId": "ea0d09d8-5b8b-422e-c180-0288be085e8d"
      },
      "execution_count": 29,
      "outputs": [
        {
          "output_type": "stream",
          "name": "stdout",
          "text": [
            "\r[*********************100%***********************]  1 of 1 completed\n",
            "[[139.71036]]\n"
          ]
        }
      ]
    },
    {
      "cell_type": "code",
      "source": [
        "#O preço acima será o previsto para o dia 30/05/2022\n",
        "#A confirmar no dia"
      ],
      "metadata": {
        "id": "QxSEf_FA6Za5"
      },
      "execution_count": null,
      "outputs": []
    }
  ]
}